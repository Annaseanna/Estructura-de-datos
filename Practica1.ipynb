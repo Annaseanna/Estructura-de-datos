{
  "nbformat": 4,
  "nbformat_minor": 0,
  "metadata": {
    "colab": {
      "provenance": [],
      "authorship_tag": "ABX9TyN8D8QOHwhgzyOsS4TxF+Cu",
      "include_colab_link": true
    },
    "kernelspec": {
      "name": "python3",
      "display_name": "Python 3"
    },
    "language_info": {
      "name": "python"
    }
  },
  "cells": [
    {
      "cell_type": "markdown",
      "metadata": {
        "id": "view-in-github",
        "colab_type": "text"
      },
      "source": [
        "<a href=\"https://colab.research.google.com/github/Annaseanna/Annaseanna/blob/main/Practica1.ipynb\" target=\"_parent\"><img src=\"https://colab.research.google.com/assets/colab-badge.svg\" alt=\"Open In Colab\"/></a>"
      ]
    },
    {
      "cell_type": "markdown",
      "source": [
        "## **Practica 1 - Busqueda binaria y ordenamiento**\n",
        "***Anna Ospina Bedoya***\n"
      ],
      "metadata": {
        "id": "4rO-ULqOsRKZ"
      }
    },
    {
      "cell_type": "markdown",
      "source": [
        " ***Ejercicio 1***\n",
        " \n",
        "Se tiene un arreglo de 20 edades comprendidas entre los 13 y 43 años no repetidas de unestudio realizado en una escuela de primaria, se debe de ordenar el arreglo y buscar la edad de 16 años"
      ],
      "metadata": {
        "id": "lkrfbfdxsqd9"
      }
    },
    {
      "cell_type": "code",
      "source": [
        "import random\n",
        "#Arreglo de edades\n",
        "edades=[16]\n",
        "for i in range(20):\n",
        "  x=random.randint(13,43)\n",
        "  if x not in edades: \n",
        "    edades.append(x)\n",
        "print(edades) \n",
        "#Organizar lista\n",
        "def ordenarLista(lista):\n",
        "  for i in range(len(edades)):\n",
        "    minimo=i\n",
        "    for j in range(i,len(edades)):\n",
        "      if edades[minimo]>edades[j]:\n",
        "        minimo=j\n",
        "    aux=edades[i]\n",
        "    edades[i]=edades[minimo]\n",
        "    edades[minimo]=aux\n",
        "  return lista\n",
        "#Encontrar el numero 16\n",
        "def busquedaBinaria(lista,num):\n",
        "  #Contador\n",
        "  i=0\n",
        "  #Inferior y superior\n",
        "  l=0\n",
        "  h=len(lista)\n",
        "  while 0<=h and i<len(lista):\n",
        "    mitad=int((l+h)/2)\n",
        "    if lista[mitad]==num:\n",
        "      return lista[mitad]\n",
        "    elif lista[mitad]>num:\n",
        "      h=mitad\n",
        "      mitad=int((l+h)/2)\n",
        "    elif lista[mitad]<num:\n",
        "      l=mitad\n",
        "      mitad=int((l+h)/2)\n",
        "    i=i+1            \n",
        "busquedaBinaria(edades,16)\n",
        "    "
      ],
      "metadata": {
        "colab": {
          "base_uri": "https://localhost:8080/"
        },
        "id": "QhEBgs4k3BTc",
        "outputId": "d9d86136-2b00-4b00-86fd-306477b7b9f2"
      },
      "execution_count": null,
      "outputs": [
        {
          "output_type": "stream",
          "name": "stdout",
          "text": [
            "[16, 38, 33, 18, 27, 40, 34, 29, 41, 31, 22, 43, 39, 32, 30, 37, 24]\n"
          ]
        },
        {
          "output_type": "execute_result",
          "data": {
            "text/plain": [
              "16"
            ]
          },
          "metadata": {},
          "execution_count": 34
        }
      ]
    },
    {
      "cell_type": "markdown",
      "source": [
        "***Ejercicio 2***\n",
        "\n",
        "En una empresa de 10 empleados se desea buscar el nombre del empleado que tuvo más ventas en el mes de diciembre. La lista ya está ordenada."
      ],
      "metadata": {
        "id": "UMBJmX3UCyc1"
      }
    },
    {
      "cell_type": "code",
      "source": [
        "lista=[\"Catalina\",\"Luis\",\"Anna\",\"Caterine\",\"Miller\",\"Juan Jose\",\"Maria Fernanda\",\"Hinara\",\"Johan\",\"Nathalia\"]\n",
        "def busquedaBinaria(lista,num):\n",
        "  #Contador\n",
        "  i=0\n",
        "  #Inferior y superior\n",
        "  l=0\n",
        "  h=len(lista)\n",
        "  while 0<=h and i<len(lista):\n",
        "    mitad=int((l+h)/2)\n",
        "    if int(lista.index(lista[mitad]))==num:\n",
        "      return lista[mitad]\n",
        "    elif int(lista.index(lista[mitad]))>num:\n",
        "      h=mitad\n",
        "      mitad=int((l+h)/2)\n",
        "    elif int(lista.index(lista[mitad]))<num:\n",
        "      l=mitad\n",
        "      mitad=int((l+h)/2)\n",
        "    i=i+1 \n",
        "a=len(lista)-1\n",
        "busquedaBinaria(lista,a)"
      ],
      "metadata": {
        "colab": {
          "base_uri": "https://localhost:8080/",
          "height": 36
        },
        "id": "trmdBHTJDAIl",
        "outputId": "78597816-2ba7-470b-ce90-00fa12fd3ca3"
      },
      "execution_count": null,
      "outputs": [
        {
          "output_type": "execute_result",
          "data": {
            "text/plain": [
              "'Nathalia'"
            ],
            "application/vnd.google.colaboratory.intrinsic+json": {
              "type": "string"
            }
          },
          "metadata": {},
          "execution_count": 47
        }
      ]
    },
    {
      "cell_type": "markdown",
      "source": [
        " ***Ejercicio 3***\n",
        "\n",
        "En una entidad se desea buscar por cedula de ciudadanía en la lista de reportes morosos, para determinar si el cliente es apto para realizar un prestamos, lo que indica que el cliente no puede estar en esa lista de 200 usuarios moroso (hacer la prueba con 20 usuarios), la lista no está ordenada"
      ],
      "metadata": {
        "id": "QCydAZSDI3uP"
      }
    },
    {
      "cell_type": "code",
      "source": [
        "import random\n",
        "#Arreglo de cedulas morosas\n",
        "cedulaM=[]\n",
        "for i in range(200):\n",
        "  x=random.randint(10000000,99999999)\n",
        "  if x not in cedulaM:\n",
        "    cedulaM.append(x)\n",
        "\n",
        "#Organizar lista\n",
        "def ordenarLista(edades):\n",
        "  for i in range(len(edades)):\n",
        "    minimo=i\n",
        "    for j in range(i,len(edades)):\n",
        "      if edades[minimo]>edades[j]:\n",
        "        minimo=j\n",
        "    aux=edades[i]\n",
        "    edades[i]=edades[minimo]\n",
        "    edades[minimo]=aux\n",
        "  return edades\n",
        "ordenarLista(cedulaM) \n",
        "\n",
        "\n",
        "def busquedaBinaria(lista,num):\n",
        "  #Contador\n",
        "  i=0\n",
        "  #Inferior y superior\n",
        "  l=0\n",
        "  h=len(lista)\n",
        "  while 0<=h and i<len(lista):\n",
        "    mitad=int((l+h)/2)\n",
        "    if int(lista.index(lista[mitad]))==num:\n",
        "      return True\n",
        "    elif int(lista.index(lista[mitad]))>num:\n",
        "      h=mitad\n",
        "      mitad=int((l+h)/2)\n",
        "    elif int(lista.index(lista[mitad]))<num:\n",
        "      l=mitad\n",
        "      mitad=int((l+h)/2)\n",
        "    i=i+1 \n",
        "    \n",
        "\n",
        "num=20\n",
        "cedulaBuscar=[]\n",
        "for i in range(num):\n",
        "  x=random.randint(10000000,99999999)\n",
        "  if x not in cedulaM:\n",
        "    cedulaBuscar.append(x)\n",
        "\n",
        "def cedulaMora(lista):\n",
        "  for i in range(num):\n",
        "    y=busquedaBinaria(cedulaM,int(cedulaBuscar[i]))\n",
        "    if y is True:\n",
        "      print(\"El usuario con la cedula: \"+str(cedulaM[i])+\" se encuentra en mora\")\n",
        "    else:\n",
        "      print(\"El usuario con la cedula: \"+str(cedulaM[i])+\" no se encuentra en mora\")  \n",
        "\n",
        "cedulaMora(cedulaM)"
      ],
      "metadata": {
        "colab": {
          "base_uri": "https://localhost:8080/"
        },
        "id": "5E5AW4UcMcqh",
        "outputId": "f645ebfd-1c00-41ef-8726-1eea1d4489c9"
      },
      "execution_count": 15,
      "outputs": [
        {
          "output_type": "stream",
          "name": "stdout",
          "text": [
            "El usuario con la cedula: 10077646 no se encuentra en mora\n",
            "El usuario con la cedula: 10610475 no se encuentra en mora\n",
            "El usuario con la cedula: 11646007 no se encuentra en mora\n",
            "El usuario con la cedula: 11657665 no se encuentra en mora\n",
            "El usuario con la cedula: 12410841 no se encuentra en mora\n",
            "El usuario con la cedula: 13234497 no se encuentra en mora\n",
            "El usuario con la cedula: 13378336 no se encuentra en mora\n",
            "El usuario con la cedula: 13548397 no se encuentra en mora\n",
            "El usuario con la cedula: 13670474 no se encuentra en mora\n",
            "El usuario con la cedula: 13697159 no se encuentra en mora\n",
            "El usuario con la cedula: 14052846 no se encuentra en mora\n",
            "El usuario con la cedula: 14198167 no se encuentra en mora\n",
            "El usuario con la cedula: 16431054 no se encuentra en mora\n",
            "El usuario con la cedula: 16612672 no se encuentra en mora\n",
            "El usuario con la cedula: 16656044 no se encuentra en mora\n",
            "El usuario con la cedula: 16659485 no se encuentra en mora\n",
            "El usuario con la cedula: 16855171 no se encuentra en mora\n",
            "El usuario con la cedula: 17206303 no se encuentra en mora\n",
            "El usuario con la cedula: 17742146 no se encuentra en mora\n",
            "El usuario con la cedula: 19882458 no se encuentra en mora\n"
          ]
        }
      ]
    },
    {
      "cell_type": "markdown",
      "source": [
        " ***Ejercicio 4***\n",
        " \n",
        "Un profesor guarda los datos de sus estudiantes en tres vectores: código, nombre y nota, como se muestra en la siguiente imagen. Se requiere un algoritmo para consultar la nota de un estudiante a partir de su código.\n"
      ],
      "metadata": {
        "id": "_kmF18W3dTWZ"
      }
    },
    {
      "cell_type": "code",
      "source": [
        "lista=[[\"001\",\"Luis Dominguez\",4.5],[\"002\",\"Daniela Flórez\",3.8],[\"003\",\"Jesús Bastidas\",2.5],[\"004\",\"Camilo Chaves\",4.8],[\"005\",\"Diana Chaves\",4.6],[\"006\",\"Jackeline Riascos\",4.2]]\n",
        "def busquedaBinaria(lista,num):\n",
        "  #Contador\n",
        "  i=0\n",
        "  #Inferior y superior\n",
        "  l=0\n",
        "  h=len(lista)\n",
        "  while 0<=h and i<len(lista):\n",
        "    mitad=int((l+h)/2)\n",
        "    if lista[mitad][0]==num:\n",
        "      return lista[mitad][2]\n",
        "    elif lista[mitad][0]>num:\n",
        "      h=mitad\n",
        "      mitad=int((l+h)/2)\n",
        "    elif lista[mitad][0]<num:\n",
        "      l=mitad\n",
        "      mitad=int((l+h)/2)\n",
        "    i=i+1 \n",
        "\n",
        "print(\"Su nota es: \"+str(busquedaBinaria(lista,\"002\")))  "
      ],
      "metadata": {
        "colab": {
          "base_uri": "https://localhost:8080/"
        },
        "id": "p-KCnKK_dURV",
        "outputId": "bfb2e0bf-8fba-4c4d-9c4c-7963535141fe"
      },
      "execution_count": 2,
      "outputs": [
        {
          "output_type": "stream",
          "name": "stdout",
          "text": [
            "Su nota es: 3.8\n"
          ]
        }
      ]
    },
    {
      "cell_type": "markdown",
      "source": [
        "***Ejercicio 5***\n",
        " \n",
        " Se tiene la siguiente lista, se dese ordenar"
      ],
      "metadata": {
        "id": "0c-yP104gt63"
      }
    },
    {
      "cell_type": "code",
      "source": [
        "a = [5, 8, 4, 14, 2, 1, 10, 3, 5]\n",
        "\n",
        "#Organizar lista\n",
        "def ordenarLista(edades):\n",
        "  for i in range(len(edades)):\n",
        "    minimo=i\n",
        "    for j in range(i,len(edades)):\n",
        "      if edades[minimo]>edades[j]:\n",
        "        minimo=j\n",
        "    aux=edades[i]\n",
        "    edades[i]=edades[minimo]\n",
        "    edades[minimo]=aux\n",
        "  return edades\n",
        "ordenarLista(a) \n"
      ],
      "metadata": {
        "colab": {
          "base_uri": "https://localhost:8080/"
        },
        "id": "6XW-vL7KguP2",
        "outputId": "8b2d76d8-ff7e-47fa-89e2-39818856c425"
      },
      "execution_count": 21,
      "outputs": [
        {
          "output_type": "execute_result",
          "data": {
            "text/plain": [
              "[1, 2, 3, 4, 5, 5, 8, 10, 14]"
            ]
          },
          "metadata": {},
          "execution_count": 21
        }
      ]
    },
    {
      "cell_type": "markdown",
      "source": [
        "***Ejercicio 6***\n",
        " \n",
        "Se tiene una lista de edades de 20 estudiantes, ordenarla de forma descendente y hallar el número que se aproxime al promedio de las edades.\n"
      ],
      "metadata": {
        "id": "mkdljQb-hByV"
      }
    },
    {
      "cell_type": "code",
      "source": [
        "import random\n",
        "#Arreglo de edades\n",
        "edades=[]\n",
        "for i in range(20):\n",
        "  x=random.randint(2,43)\n",
        "  if x not in edades: \n",
        "    edades.append(x)\n",
        "\n",
        "#Organizar lista\n",
        "def ordenarLista(lista):\n",
        "  for i in range(len(edades)):\n",
        "    minimo=i\n",
        "    for j in range(i,len(edades)):\n",
        "      if edades[minimo]<edades[j]:\n",
        "        minimo=j\n",
        "    aux=edades[i]\n",
        "    edades[i]=edades[minimo]\n",
        "    edades[minimo]=aux\n",
        "  return lista\n",
        "ordenarLista(edades)\n",
        "print(edades)\n",
        "promedio = sum(edades) / len(edades)\n",
        "i=0\n",
        "f=len(edades)-1\n",
        "indice=None\n",
        "\n",
        "#Promedio Aproximado\n",
        "while i<=f:\n",
        "    mitad=(i+f)//2\n",
        "    if edades[mitad]==promedio:\n",
        "        indice=mitad\n",
        "        break\n",
        "    elif edades[mitad]<promedio:\n",
        "        f=mitad-1\n",
        "    else:\n",
        "        i=mitad+1\n",
        "\n",
        "if indice is None:\n",
        "    if abs(edades[i]-promedio) < abs(edades[f]-promedio):\n",
        "        indice=i\n",
        "    else:\n",
        "        indice=f\n",
        "print(\"La edad más cercana al promedio es\", edades[indice])"
      ],
      "metadata": {
        "colab": {
          "base_uri": "https://localhost:8080/"
        },
        "outputId": "93d4b97c-d413-418c-b2b6-38c1346d4342",
        "id": "L00qovgYhflF"
      },
      "execution_count": 1,
      "outputs": [
        {
          "output_type": "stream",
          "name": "stdout",
          "text": [
            "[40, 39, 38, 37, 35, 32, 25, 21, 17, 15, 14, 13, 12, 10, 8, 7, 6, 3]\n",
            "La edad más cercana al promedio es 21\n"
          ]
        }
      ]
    },
    {
      "cell_type": "markdown",
      "source": [
        "***Ejercicio 7***\n",
        " \n",
        "Se tiene una lista de cosas del hogar, se desea ordenar de forma ascendente\n",
        "B = [“nevera”, “olla”, “lavadora”, “gancho”,” cama”, “televisor”]\n"
      ],
      "metadata": {
        "id": "jR6rguKvkJB4"
      }
    },
    {
      "cell_type": "code",
      "source": [
        "B = [\"nevera\", \"olla\", \"lavadora\", \"gancho\", \"cama\", \"televisor\"]\n",
        "#Organizar lista\n",
        "def ordenarLista(edades):\n",
        "  for i in range(len(edades)):\n",
        "    minimo=i\n",
        "    for j in range(i,len(edades)):\n",
        "      if edades[minimo]>edades[j]:\n",
        "        minimo=j\n",
        "    aux=edades[i]\n",
        "    edades[i]=edades[minimo]\n",
        "    edades[minimo]=aux\n",
        "  return edades\n",
        "ordenarLista(B) "
      ],
      "metadata": {
        "colab": {
          "base_uri": "https://localhost:8080/"
        },
        "id": "_gTa-IcgkJSc",
        "outputId": "b0c6fca8-5025-4b2e-cb7d-0402f02db5a6"
      },
      "execution_count": 26,
      "outputs": [
        {
          "output_type": "execute_result",
          "data": {
            "text/plain": [
              "['cama', 'gancho', 'lavadora', 'nevera', 'olla', 'televisor']"
            ]
          },
          "metadata": {},
          "execution_count": 26
        }
      ]
    },
    {
      "cell_type": "markdown",
      "source": [
        "***Ejercicio 8***\n",
        " \n",
        "En una biblioteca se guarda la información de los libros (código, autor, editorial, año de registro), se desea buscar por el código del libro"
      ],
      "metadata": {
        "id": "lB7Ui6S9-7vl"
      }
    },
    {
      "cell_type": "code",
      "source": [
        "info=[[\"001\",\"Jose\",\"Velez\",2000],[\"003\",\"Anna\",\"Ospina\",2003], [\"009\",\"Hinara\",\"Sanchez\",2022],[\"005\",\"Hernan\",\"Arana\",2021], [\"006\",\"Hesley\",\"Garcia\",2016]]\n",
        "#Organizar lista\n",
        "def ordenarLista(lista):\n",
        "  for i in range(len(lista)):\n",
        "    minimo=i\n",
        "    for j in range(i,len(lista)):\n",
        "      if lista[minimo]>lista[j]:\n",
        "        minimo=j\n",
        "    aux=lista[i]\n",
        "    lista[i]=lista[minimo]\n",
        "    lista[minimo]=aux\n",
        "  return lista\n",
        "ordenarLista(info)\n",
        "def busquedaBinaria(lista,num):\n",
        "  #Contador\n",
        "  i=0\n",
        "  #Inferior y superior\n",
        "  l=0\n",
        "  h=len(lista)\n",
        "  while 0<=h and i<len(lista):\n",
        "    mitad=int((l+h)/2)\n",
        "    if lista[mitad][0]==num:\n",
        "      print(f\"Autor: {lista[mitad][1]}\")\n",
        "      print(f\"Editorial: {lista[mitad][2]}\")\n",
        "      print(f\"Año: {lista[mitad][3]}\")\n",
        "      return \"Esta es la informacion del libro\"\n",
        "    elif lista[mitad][0]>num:\n",
        "      h=mitad\n",
        "      mitad=int((l+h)/2)\n",
        "    elif lista[mitad][0]<num:\n",
        "      l=mitad\n",
        "      mitad=int((l+h)/2)\n",
        "    i=i+1 \n",
        "busquedaBinaria(info,\"003\")    \n"
      ],
      "metadata": {
        "colab": {
          "base_uri": "https://localhost:8080/",
          "height": 90
        },
        "id": "8VLqOmGb_u9o",
        "outputId": "7fe824b8-aaf5-4b21-f958-c1a9f8fc63b1"
      },
      "execution_count": 11,
      "outputs": [
        {
          "output_type": "stream",
          "name": "stdout",
          "text": [
            "Autor: Anna\n",
            "Editorial: Ospina\n",
            "Año: 2003\n"
          ]
        },
        {
          "output_type": "execute_result",
          "data": {
            "text/plain": [
              "'Esta es la informacion del libro'"
            ],
            "application/vnd.google.colaboratory.intrinsic+json": {
              "type": "string"
            }
          },
          "metadata": {},
          "execution_count": 11
        }
      ]
    },
    {
      "cell_type": "markdown",
      "source": [
        "***Ejercicio 9***\n",
        " \n",
        "Se tiene los datos de la temperatura en grados centígrados que tuvieron en el transcurso del año, las ciudades principales de Colombia están almacenadas de la siguiente manera.\n",
        "\n",
        "a. Se desea conocer en el mes de mayo cual fue la ciudad que tuvo una temperatura entre los 25 y 27 grados centígrados."
      ],
      "metadata": {
        "id": "3XuN8-ynCaJG"
      }
    },
    {
      "cell_type": "code",
      "source": [
        "#Lista de temperaturas asociadas a meses y ciudades\n",
        "lista_1=[[\"ene\",[\"Bogotá\",19],[\"Medellín\",25],[\"Cali\",29],[\"Barranquilla\",30]],\n",
        "    [\"feb\",[\"Bogotá\",19],[\"Medellín\",25],[\"Cali\",29],[\"Barranquilla\",30]],\n",
        "    [\"mar\",[\"Bogotá\",19],[\"Medellín\",25],[\"Cali\",29],[\"Barranquilla\",31]],\n",
        "    [\"abr\",[\"Bogotá\",18],[\"Medellín\",25],[\"Cali\",28],[\"Barranquilla\",31]],\n",
        "    [\"may\",[\"Bogotá\",18],[\"Medellín\",26],[\"Cali\",28],[\"Barranquilla\",32]],\n",
        "    [\"jun\",[\"Bogotá\",18],[\"Medellín\",26],[\"Cali\",28],[\"Barranquilla\",32]],\n",
        "    [\"jul\",[\"Bogotá\",17],[\"Medellín\",26],[\"Cali\",29],[\"Barranquilla\",32]],\n",
        "    [\"ago\",[\"Bogotá\",17],[\"Medellín\",26],[\"Cali\",29],[\"Barranquilla\",32]],\n",
        "    [\"sep\",[\"Bogotá\",18],[\"Medellín\",25],[\"Cali\",29],[\"Barranquilla\",32]],\n",
        "    [\"oct\",[\"Bogotá\",18],[\"Medellín\",25],[\"Cali\",28],[\"Barranquilla\",31]],\n",
        "    [\"nov\",[\"Bogotá\",18],[\"Medellín\",25],[\"Cali\",28],[\"Barranquilla\",31]],\n",
        "    [\"dic\",[\"Bogotá\",19],[\"Medellín\",25],[\"Cali\",28],[\"Barranquilla\",30]]] \n",
        "\n",
        "#Lista mes de mayo\n",
        "mayo=[]\n",
        "for i in range(1,5):\n",
        "  mayo.append(lista_1[4][i])\n",
        "print(mayo)  \n",
        "#Busqueda de grados \n",
        "def busquedaBinaria(lista,num):\n",
        "  #Contador\n",
        "  i=0\n",
        "  #Inferior y superior\n",
        "  l=0\n",
        "  h=len(lista)\n",
        "  while 0<=h and i<len(lista):\n",
        "    mitad=int((l+h)/2)\n",
        "    if lista[mitad][1]==num:\n",
        "      return lista[mitad][0]\n",
        "    elif lista[mitad][1]>num:\n",
        "      h=mitad\n",
        "      mitad=int((l+h)/2)\n",
        "    elif lista[mitad][1]<num:\n",
        "      l=mitad\n",
        "      mitad=int((l+h)/2)\n",
        "    i=i+1 \n",
        "ciudad=[]\n",
        "for i in range(len(mayo)):\n",
        "  for j in range(3):\n",
        "    x=25\n",
        "    y=busquedaBinaria(mayo,j+x)  \n",
        "    if y not in ciudad and y is not None:\n",
        "      ciudad.append(y)\n",
        "\n",
        "print(f\"La ciudad con temperaturas entre 25 y 27 grados fue {ciudad[0]}\")      "
      ],
      "metadata": {
        "colab": {
          "base_uri": "https://localhost:8080/"
        },
        "id": "tQfQXCeNC4xw",
        "outputId": "3b81c2e8-fe8d-490b-d05a-12990769a871"
      },
      "execution_count": 24,
      "outputs": [
        {
          "output_type": "stream",
          "name": "stdout",
          "text": [
            "[['Bogotá', 18], ['Medellín', 26], ['Cali', 28], ['Barranquilla', 32]]\n",
            "La ciudad con temperaturas entre 25 y 27 grados fue Medellín\n"
          ]
        }
      ]
    },
    {
      "cell_type": "markdown",
      "source": [
        "\n",
        "b. Se desea conocer la ciudad y el mes en el cual la temperatura fue superior a 31 grados centígrados"
      ],
      "metadata": {
        "id": "NoCJXlxwKyJd"
      }
    },
    {
      "cell_type": "code",
      "source": [
        "lista_2=[[\"Bogotá\",\"ene\",19],[\"Bogotá\",\"feb\",19],[\"Bogotá\",\"mar\",19],[\"Bogotá\",\"abr\",18],[\"Bogotá\",\"may\",18],[\"Bogotá\",\"jun\",18],[\"Bogotá\",\"jul\",17],[\"Bogotá\",\"ago\",17],[\"Bogotá\",\"sept\",18],[\"Bogotá\",\"oct\",18],[\"Bogotá\",\"nov\",18],[\"Bogotá\",\"dic\",19],\n",
        "      [\"Medellín\",\"ene\",25],[\"Medellín\",\"feb\",25],[\"Medellín\",\"mar\",25],[\"Medellín\",\"abr\",25],[\"Medellín\",\"may\",26],[\"Medellín\",\"jun\",26],[\"Medellín\",\"jul\",26],[\"Medellín\",\"ago\",26],[\"Medellín\",\"sept\",25],[\"Medellín\",\"oct\",25],[\"Medellín\",\"nov\",25],[\"Medellín\",\"dic\",25],\n",
        "      [\"Cali\",\"ene\",29],[\"Cali\",\"feb\",29],[\"Cali\",\"mar\",29],[\"Cali\",\"abr\",28],[\"Cali\",\"may\",28],[\"Cali\",\"jun\",28],[\"Cali\",\"jul\",29],[\"Cali\",\"ago\",29],[\"Cali\",\"sept\",29],[\"Cali\",\"oct\",28],[\"Cali\",\"nov\",28],[\"Cali\",\"dic\",28],\n",
        "      [\"Barranquilla\",\"ene\",30],[\"Barranquilla\",\"feb\",30],[\"Barranquilla\",\"mar\",31],[\"Barranquilla\",\"abr\",31],[\"Barranquilla\",\"may\",32],[\"Barranquilla\",\"jun\",32],[\"Barranquilla\",\"jul\",32],[\"Barranquilla\",\"ago\",32],[\"Barranquilla\",\"sept\",32],[\"Barranquilla\",\"oct\",31],[\"Barranquilla\",\"nov\",31],[\"Barranquilla\",\"dic\",30]]\n",
        "\n",
        "#Organizar lista\n",
        "def ordenarLista(lista):\n",
        "  for i in range(len(lista)):\n",
        "    for j in range(len(lista)):\n",
        "      if lista[i][2]<lista[j][2]:\n",
        "        aux=lista[i]\n",
        "        lista[i]=lista[j]\n",
        "        lista[j]=aux\n",
        "ordenarLista(lista_2)\n",
        "\n",
        "#Busqueda de grados \n",
        "def busquedaBinaria(lista,num):\n",
        "  #Contador\n",
        "  i=0\n",
        "  #Inferior y superior\n",
        "  l=0\n",
        "  h=len(lista)\n",
        "  while 0<=h and i<len(lista):\n",
        "    mitad=int((l+h)/2)\n",
        "    if lista[mitad][2]==num:\n",
        "      return lista[mitad][0]\n",
        "    elif lista[mitad][2]>num:\n",
        "      h=mitad\n",
        "      mitad=int((l+h)/2)\n",
        "    elif lista[mitad][2]<num:\n",
        "      l=mitad\n",
        "      mitad=int((l+h)/2)\n",
        "    i=i+1 \n",
        "ciudad=[]\n",
        "for i in range(len(lista_2)):\n",
        "  for j in range(20):\n",
        "    x=31\n",
        "    y=busquedaBinaria(lista_2,j+x)  \n",
        "    if y not in ciudad and y is not None:\n",
        "      ciudad.append(y)\n",
        "\n",
        "print(f\"La ciudad con temperatura superior a 31 fue {ciudad[0]}\")   \n"
      ],
      "metadata": {
        "colab": {
          "base_uri": "https://localhost:8080/"
        },
        "id": "ZAU2X6VjK1xc",
        "outputId": "ecadf64b-08ad-4f72-af0e-5de5a1ee1345"
      },
      "execution_count": 37,
      "outputs": [
        {
          "output_type": "stream",
          "name": "stdout",
          "text": [
            "La ciudad con temperatura superior a 31 fue Barranquilla\n"
          ]
        }
      ]
    }
  ]
}